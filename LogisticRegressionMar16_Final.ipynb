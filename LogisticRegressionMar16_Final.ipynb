{
 "cells": [
  {
   "cell_type": "code",
   "execution_count": 2,
   "id": "056eb072",
   "metadata": {},
   "outputs": [
    {
     "data": {
      "text/plain": [
       "<AxesSubplot:xlabel='default', ylabel='balance'>"
      ]
     },
     "execution_count": 2,
     "metadata": {},
     "output_type": "execute_result"
    },
    {
     "data": {
      "image/png": "[encoded data removed]",
      "text/plain": [
       "<Figure size 432x288 with 1 Axes>"
      ]
     },
     "metadata": {
      "needs_background": "light"
     },
     "output_type": "display_data"
    }
   ],
   "source": [
    "#replace lines that have \"###\" with the appropriate commands\n",
    "import pandas as pd\n",
    "import numpy as np\n",
    "import matplotlib.pyplot as plt\n",
    "import seaborn as sns\n",
    "\n",
    "#data on payment defaults\n",
    "df=pd.read_csv(\"default.csv\")\n",
    "df.head(5)\n",
    "\n",
    "#Look at the distribution with a boxplot\n",
    "sns.boxplot(x=\"default\",y=\"balance\",data=df)"
   ]
  },
  {
   "cell_type": "code",
   "execution_count": 3,
   "id": "d9f873ac",
   "metadata": {},
   "outputs": [
    {
     "data": {
      "text/html": [
       "<div>\n",
       "<style scoped>\n",
       "    .dataframe tbody tr th:only-of-type {\n",
       "        vertical-align: middle;\n",
       "    }\n",
       "\n",
       "    .dataframe tbody tr th {\n",
       "        vertical-align: top;\n",
       "    }\n",
       "\n",
       "    .dataframe thead th {\n",
       "        text-align: right;\n",
       "    }\n",
       "</style>\n",
       "<table border=\"1\" class=\"dataframe\">\n",
       "  <thead>\n",
       "    <tr style=\"text-align: right;\">\n",
       "      <th></th>\n",
       "      <th>default</th>\n",
       "      <th>student</th>\n",
       "      <th>balance</th>\n",
       "      <th>income</th>\n",
       "    </tr>\n",
       "  </thead>\n",
       "  <tbody>\n",
       "    <tr>\n",
       "      <th>0</th>\n",
       "      <td>No</td>\n",
       "      <td>Yes</td>\n",
       "      <td>1436.829989</td>\n",
       "      <td>22925.46992</td>\n",
       "    </tr>\n",
       "    <tr>\n",
       "      <th>1</th>\n",
       "      <td>No</td>\n",
       "      <td>Yes</td>\n",
       "      <td>843.017897</td>\n",
       "      <td>12268.93352</td>\n",
       "    </tr>\n",
       "    <tr>\n",
       "      <th>2</th>\n",
       "      <td>No</td>\n",
       "      <td>No</td>\n",
       "      <td>1410.959915</td>\n",
       "      <td>58310.25593</td>\n",
       "    </tr>\n",
       "    <tr>\n",
       "      <th>3</th>\n",
       "      <td>No</td>\n",
       "      <td>Yes</td>\n",
       "      <td>598.733313</td>\n",
       "      <td>23118.53110</td>\n",
       "    </tr>\n",
       "    <tr>\n",
       "      <th>4</th>\n",
       "      <td>No</td>\n",
       "      <td>No</td>\n",
       "      <td>72.928370</td>\n",
       "      <td>13300.76955</td>\n",
       "    </tr>\n",
       "  </tbody>\n",
       "</table>\n",
       "</div>"
      ],
      "text/plain": [
       "  default student      balance       income\n",
       "0      No     Yes  1436.829989  22925.46992\n",
       "1      No     Yes   843.017897  12268.93352\n",
       "2      No      No  1410.959915  58310.25593\n",
       "3      No     Yes   598.733313  23118.53110\n",
       "4      No      No    72.928370  13300.76955"
      ]
     },
     "execution_count": 3,
     "metadata": {},
     "output_type": "execute_result"
    }
   ],
   "source": [
    "df.head(5)"
   ]
  },
  {
   "cell_type": "code",
   "execution_count": 9,
   "id": "c70e7873",
   "metadata": {},
   "outputs": [],
   "source": [
    "#Preprocessing the data\n",
    "#create a temporary variable \"temp\" that contains columns default and student\n",
    "###\n",
    "temp = df[['default','student']]"
   ]
  },
  {
   "cell_type": "code",
   "execution_count": 10,
   "id": "cc68c605",
   "metadata": {},
   "outputs": [],
   "source": [
    "#Convert to dummy variables\n",
    "temp=pd.get_dummies(temp, prefix=['default', 'student'])"
   ]
  },
  {
   "cell_type": "code",
   "execution_count": 11,
   "id": "a888e135",
   "metadata": {},
   "outputs": [],
   "source": [
    "#dropping the redundant variables\n",
    "temp=temp.drop(['default_No','student_No'],axis=1)"
   ]
  },
  {
   "cell_type": "code",
   "execution_count": 12,
   "id": "42ed8774",
   "metadata": {},
   "outputs": [],
   "source": [
    "#train is the preprocessed data that we will use\n",
    "train = pd.concat([df[\"balance\"],df[\"income\"],temp],axis=1)"
   ]
  },
  {
   "cell_type": "code",
   "execution_count": 13,
   "id": "9cd561ae",
   "metadata": {},
   "outputs": [
    {
     "data": {
      "text/plain": [
       "Index(['balance', 'income', 'default_Yes', 'student_Yes'], dtype='object')"
      ]
     },
     "execution_count": 13,
     "metadata": {},
     "output_type": "execute_result"
    }
   ],
   "source": [
    "train.columns"
   ]
  },
  {
   "cell_type": "code",
   "execution_count": 14,
   "id": "5bdb508d",
   "metadata": {},
   "outputs": [],
   "source": [
    "#Separate x and y variables\n",
    "x=train[[\"balance\"]]  #for x variable use double brackets\n",
    "###\n",
    "y=train['default_Yes']"
   ]
  },
  {
   "cell_type": "code",
   "execution_count": 15,
   "id": "f3126a7a",
   "metadata": {},
   "outputs": [],
   "source": [
    "#train_test_split: splits the data into training and testing set\n",
    "from sklearn.model_selection import train_test_split\n",
    "\n",
    "x_train, x_test, y_train, y_test = train_test_split(x,y, test_size=0.30, \n",
    "                                                    random_state=101)"
   ]
  },
  {
   "cell_type": "code",
   "execution_count": 16,
   "id": "d1af985b",
   "metadata": {},
   "outputs": [],
   "source": [
    "# using linear regression model\n",
    "from sklearn.linear_model import LinearRegression #import regression model\n",
    "\n",
    "lm = LinearRegression() #initialize the model\n",
    "\n",
    "lm.fit(x_train,y_train) #fitting the model (or training it)\n",
    "\n",
    "predictions = lm.predict(x_test)"
   ]
  },
  {
   "cell_type": "code",
   "execution_count": 17,
   "id": "1c144ab5",
   "metadata": {},
   "outputs": [
    {
     "name": "stdout",
     "output_type": "stream",
     "text": [
      "[ 0.03138685  0.32410235  0.64796244  0.663994    0.51488223  0.4418555\n",
      "  0.18742694  0.64708127  0.25254661  0.95357284 -0.10501166  0.17456118\n",
      "  0.68271064  0.67778998  0.16051115 -0.10811766  0.7672006  -0.02107125\n",
      "  0.42558837  0.04598908  0.55480816  0.16541797  0.77732166  0.40028727\n",
      "  1.09611489  0.24262256  0.5181053   0.88916099  0.99708557  0.43383063\n",
      "  0.51698417 -0.21947763  0.83163859  0.71193802  0.35050441  0.2158217\n",
      "  0.74482482  0.81154098  0.0940759   0.31239812  1.04019705  0.89406023\n",
      "  1.02735413  0.49317569 -0.09482633  0.38092082 -0.01713579  0.64866303\n",
      "  0.8427619   0.10065425  0.38687405  0.79628395  0.37337547  0.18316622\n",
      "  1.02988432  0.18493264  1.05954648  0.30609283  0.771117    1.15583769\n",
      "  0.67060262  0.13358239  1.07712033  0.19118168  1.02804172  0.35362016\n",
      "  0.74800387  0.74596516  0.58954465 -0.27597556  0.29022865  0.36000955\n",
      "  0.79185785  0.76965808  0.68885629  0.39414747  0.74873336  0.78309279\n",
      "  0.91429982  1.01835399  1.02724244  0.95516295  0.38021895  0.19209338\n",
      "  0.71930835  0.02851431  1.06572613  0.69722693  0.48065284  1.11647007\n",
      "  0.96543627  0.63074492  0.26092086  0.93005957  0.27409743  0.58085194\n",
      "  0.61776473  0.92286428  0.38468941  0.718742    0.63103741  0.58049513\n",
      "  0.16069285  0.07490689  1.07822421  1.05466687  0.7640199   0.65024672\n",
      "  0.0015189  -0.15272457  0.85203687 -0.17021287  0.39178505  0.94059303\n",
      "  0.13114038  1.00193194  0.13974899  0.65373747  0.75548976  0.20260297\n",
      "  0.36150171  0.2581797   0.81321331  0.1874439   0.7249007   0.69047042\n",
      "  0.68667634 -0.01851384  0.23406167 -0.27597556  0.73177376  0.47517786\n",
      "  0.17072932  0.70429277  0.24324052 -0.03114577  0.9394995   0.6361885\n",
      " -0.04210146  0.40858465  0.88564833 -0.24775167  0.54740406  0.74338755\n",
      "  0.29655504  0.40253991  0.98428007  0.56716365  0.79671162  0.77370091\n",
      "  0.41050835  0.04845468  0.40593836 -0.27597556  0.68750816 -0.00576914\n",
      "  0.88667312  0.87232106  0.41453201  0.9288031   1.0910284   0.80585059\n",
      "  0.48321449  0.4102653   0.47238973  0.55934926  0.60541403  0.52315646\n",
      " -0.23123937  0.78032833  0.38085217  0.5578023   0.59788688  0.57732149\n",
      "  0.87791033  0.64175472  0.4072298   0.68247549  0.03567596  1.18846665\n",
      "  0.55816311  0.2798648   0.69675288  0.55592845  0.65128666 -0.07784964\n",
      "  0.83076271  0.48219904  0.3944423   0.90688267  0.86432573  0.22296352\n",
      "  0.3613051   0.84254884 -0.079923    0.50157366]\n"
     ]
    }
   ],
   "source": [
    "print(predictions)"
   ]
  },
  {
   "cell_type": "code",
   "execution_count": 18,
   "id": "c55de19f",
   "metadata": {},
   "outputs": [
    {
     "data": {
      "text/plain": [
       "LogisticRegression()"
      ]
     },
     "execution_count": 18,
     "metadata": {},
     "output_type": "execute_result"
    }
   ],
   "source": [
    "from sklearn.linear_model import LogisticRegression\n",
    "\n",
    "\n",
    "logmodel = LogisticRegression() #initialize the model\n",
    "logmodel.fit(x_train,y_train) #train the model, learning happens here"
   ]
  },
  {
   "cell_type": "code",
   "execution_count": 26,
   "id": "47d162c6",
   "metadata": {},
   "outputs": [
    {
     "name": "stdout",
     "output_type": "stream",
     "text": [
      "[-7.23786769]\n",
      "[[0.00554109886723289]]\n",
      "              precision    recall  f1-score   support\n",
      "\n",
      "           0       0.86      0.84      0.85        97\n",
      "           1       0.84      0.87      0.86        99\n",
      "\n",
      "    accuracy                           0.85       196\n",
      "   macro avg       0.85      0.85      0.85       196\n",
      "weighted avg       0.85      0.85      0.85       196\n",
      "\n",
      "[0 0 1 1 0 0 0 1 0 1 0 0 1 1 0 0 1 0 0 0 1 0 1 0 1 0 0 1 1 0 0 0 1 1 0 0 1\n",
      " 1 0 0 1 1 1 0 0 0 0 1 1 0 0 1 0 0 1 0 1 0 1 1 1 0 1 0 1 0 1 1 1 0 0 0 1 1\n",
      " 1 0 1 1 1 1 1 1 0 0 1 0 1 1 0 1 1 1 0 1 0 1 1 1 0 1 1 1 0 0 1 1 1 1 0 0 1\n",
      " 0 0 1 0 1 0 1 1 0 0 0 1 0 1 1 1 0 0 0 1 0 0 1 0 0 1 1 0 0 1 0 1 1 0 0 1 1\n",
      " 1 1 0 0 0 0 1 0 1 1 0 1 1 1 0 0 0 1 1 0 0 1 0 1 1 1 1 1 0 1 0 1 1 0 1 1 1\n",
      " 0 1 0 0 1 1 0 0 1 0 0]\n"
     ]
    }
   ],
   "source": [
    "#predictions made on test data\n",
    "log_predictions = logmodel.predict(x_test)\n",
    "\n",
    "print (logmodel.intercept_)  #this is the intercept \n",
    "print (logmodel.coef_.tolist())  #  the coefficient\n",
    "\n",
    "#How good is our model?\n",
    "from sklearn.metrics import classification_report\n",
    "print(classification_report(y_test,log_predictions))\n",
    "\n",
    "print(log_predictions)"
   ]
  },
  {
   "cell_type": "code",
   "execution_count": 27,
   "id": "566931f6",
   "metadata": {},
   "outputs": [],
   "source": [
    "#building the model part 2\n",
    "#In this model we will use all the x variables for classification\n",
    "\n",
    "\n",
    "#Separate x and y variables\n",
    "x=train[[\"balance\",\"income\",\"student_Yes\"]]#for x variables use double brackets\n",
    "y=train['default_Yes']"
   ]
  },
  {
   "cell_type": "code",
   "execution_count": 28,
   "id": "87bbe00f",
   "metadata": {},
   "outputs": [],
   "source": [
    "from sklearn.model_selection import train_test_split\n",
    "\n",
    "x_train, x_test, y_train, y_test = train_test_split(x,y, test_size=0.30, \n",
    "                                                    random_state=101)"
   ]
  },
  {
   "cell_type": "code",
   "execution_count": 29,
   "id": "8a0e1cf5",
   "metadata": {},
   "outputs": [
    {
     "data": {
      "text/plain": [
       "LogisticRegression()"
      ]
     },
     "execution_count": 29,
     "metadata": {},
     "output_type": "execute_result"
    }
   ],
   "source": [
    "from sklearn.linear_model import LogisticRegression\n",
    "\n",
    "logmodel = LogisticRegression()\n",
    "logmodel.fit(x_train,y_train)"
   ]
  },
  {
   "cell_type": "code",
   "execution_count": 31,
   "id": "a01dabbe",
   "metadata": {},
   "outputs": [
    {
     "name": "stdout",
     "output_type": "stream",
     "text": [
      "[-2.23548162]\n",
      "[[0.004561975744750606, -8.294704728158599e-05, -2.4865399975514557]]\n",
      "              precision    recall  f1-score   support\n",
      "\n",
      "           0       0.86      0.84      0.85        97\n",
      "           1       0.84      0.87      0.86        99\n",
      "\n",
      "    accuracy                           0.85       196\n",
      "   macro avg       0.85      0.85      0.85       196\n",
      "weighted avg       0.85      0.85      0.85       196\n",
      "\n"
     ]
    }
   ],
   "source": [
    "print (logmodel.intercept_) #this is the intercept \n",
    "print (logmodel.coef_.tolist()) #the coefficients\n",
    "\n",
    "#How good is our model?\n",
    "from sklearn.metrics import classification_report\n",
    "print(classification_report(y_test,log_predictions))"
   ]
  },
  {
   "cell_type": "code",
   "execution_count": null,
   "id": "3b7362f6",
   "metadata": {},
   "outputs": [],
   "source": []
  }
 ],
 "metadata": {
  "kernelspec": {
   "display_name": "Python 3 (ipykernel)",
   "language": "python",
   "name": "python3"
  },
  "language_info": {
   "codemirror_mode": {
    "name": "ipython",
    "version": 3
   },
   "file_extension": ".py",
   "mimetype": "text/x-python",
   "name": "python",
   "nbconvert_exporter": "python",
   "pygments_lexer": "ipython3",
   "version": "3.9.7"
  }
 },
 "nbformat": 4,
 "nbformat_minor": 5
}

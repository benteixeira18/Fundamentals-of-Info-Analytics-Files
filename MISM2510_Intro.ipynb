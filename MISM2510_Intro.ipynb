{
 "cells": [
  {
   "cell_type": "code",
   "execution_count": 3,
   "id": "b328d8b4",
   "metadata": {},
   "outputs": [
    {
     "data": {
      "text/plain": [
       "3113036698945165416920599573096808470659508795685238102197403599458818625974428505216102506409470151993446052074432373046875"
      ]
     },
     "execution_count": 3,
     "metadata": {},
     "output_type": "execute_result"
    }
   ],
   "source": [
    "555**45"
   ]
  },
  {
   "cell_type": "code",
   "execution_count": 4,
   "id": "d0f81758",
   "metadata": {},
   "outputs": [
    {
     "name": "stdout",
     "output_type": "stream",
     "text": [
      "['George', 'Book', 'Cat'] [1, 2, 3] []\n"
     ]
    }
   ],
   "source": [
    "list_strings = [\"George\",\"Book\",\"Cat\"]\n",
    "list_numbers = [1,2,3]\n",
    "list_empty = []\n",
    "print(list_strings,list_numbers,list_empty)"
   ]
  },
  {
   "cell_type": "code",
   "execution_count": 7,
   "id": "d953005d",
   "metadata": {},
   "outputs": [
    {
     "name": "stdout",
     "output_type": "stream",
     "text": [
      "hello world!\n"
     ]
    }
   ],
   "source": [
    "# can't download class \n",
    "# first commands\n",
    "print(\"hello world!\")"
   ]
  },
  {
   "cell_type": "code",
   "execution_count": 8,
   "id": "b154b9cb",
   "metadata": {},
   "outputs": [
    {
     "name": "stdout",
     "output_type": "stream",
     "text": [
      "This is my first program\n"
     ]
    }
   ],
   "source": [
    "# string\n",
    "print(\"This is my first program\")"
   ]
  },
  {
   "cell_type": "code",
   "execution_count": 10,
   "id": "27218429",
   "metadata": {},
   "outputs": [
    {
     "name": "stdout",
     "output_type": "stream",
     "text": [
      "4\n",
      "100\n"
     ]
    }
   ],
   "source": [
    "# basic math\n",
    "print(2+2)\n",
    "print(10*10)"
   ]
  },
  {
   "cell_type": "code",
   "execution_count": 16,
   "id": "13613564",
   "metadata": {},
   "outputs": [
    {
     "name": "stdout",
     "output_type": "stream",
     "text": [
      "289\n",
      "289.0\n"
     ]
    }
   ],
   "source": [
    "# exponents\n",
    "print(17**2)"
   ]
  },
  {
   "cell_type": "code",
   "execution_count": 17,
   "id": "47249ecd",
   "metadata": {},
   "outputs": [
    {
     "data": {
      "text/plain": [
       "289.0"
      ]
     },
     "execution_count": 17,
     "metadata": {},
     "output_type": "execute_result"
    }
   ],
   "source": [
    "# using math library to use power function\n",
    "import math\n",
    "math.pow(17,2)"
   ]
  },
  {
   "cell_type": "code",
   "execution_count": 19,
   "id": "d18c6ac1",
   "metadata": {},
   "outputs": [
    {
     "ename": "TypeError",
     "evalue": "can only concatenate str (not \"int\") to str",
     "output_type": "error",
     "traceback": [
      "\u001b[0;31m---------------------------------------------------------------------------\u001b[0m",
      "\u001b[0;31mTypeError\u001b[0m                                 Traceback (most recent call last)",
      "\u001b[0;32m/var/folders/6v/ftpn66z95v9btj93m5dqmvqm0000gn/T/ipykernel_4970/1863923258.py\u001b[0m in \u001b[0;36m<module>\u001b[0;34m\u001b[0m\n\u001b[1;32m      1\u001b[0m \u001b[0;31m# syntax error: adding a string and an integer\u001b[0m\u001b[0;34m\u001b[0m\u001b[0;34m\u001b[0m\u001b[0m\n\u001b[0;32m----> 2\u001b[0;31m \u001b[0merror\u001b[0m \u001b[0;34m=\u001b[0m \u001b[0;34m'string'\u001b[0m \u001b[0;34m+\u001b[0m \u001b[0;36m1\u001b[0m\u001b[0;34m\u001b[0m\u001b[0;34m\u001b[0m\u001b[0m\n\u001b[0m\u001b[1;32m      3\u001b[0m \u001b[0merror\u001b[0m\u001b[0;34m\u001b[0m\u001b[0;34m\u001b[0m\u001b[0m\n",
      "\u001b[0;31mTypeError\u001b[0m: can only concatenate str (not \"int\") to str"
     ]
    }
   ],
   "source": [
    "# syntax error: adding a string and an integer\n",
    "error = \"string\" + 1\n",
    "error"
   ]
  },
  {
   "cell_type": "code",
   "execution_count": 25,
   "id": "b6ce3011",
   "metadata": {},
   "outputs": [
    {
     "data": {
      "text/plain": [
       "int"
      ]
     },
     "execution_count": 25,
     "metadata": {},
     "output_type": "execute_result"
    }
   ],
   "source": [
    "# types: int\n",
    "type(1)"
   ]
  },
  {
   "cell_type": "code",
   "execution_count": 26,
   "id": "3e5c5cea",
   "metadata": {
    "scrolled": true
   },
   "outputs": [
    {
     "data": {
      "text/plain": [
       "str"
      ]
     },
     "execution_count": 26,
     "metadata": {},
     "output_type": "execute_result"
    }
   ],
   "source": [
    "# types: str\n",
    "type(\"one\")"
   ]
  },
  {
   "cell_type": "code",
   "execution_count": 30,
   "id": "2e2f768f",
   "metadata": {},
   "outputs": [
    {
     "name": "stdout",
     "output_type": "stream",
     "text": [
      "I have this much: $ 3\n"
     ]
    }
   ],
   "source": [
    "# combining data types\n",
    "print(\"I have this much: $\",1+2)"
   ]
  },
  {
   "cell_type": "code",
   "execution_count": 31,
   "id": "49393a89",
   "metadata": {},
   "outputs": [
    {
     "name": "stdout",
     "output_type": "stream",
     "text": [
      "I have this much:  4 dollars\n"
     ]
    }
   ],
   "source": [
    "print(\"I have this much: \",2+2,\"dollars\")"
   ]
  },
  {
   "cell_type": "code",
   "execution_count": 33,
   "id": "664b3624",
   "metadata": {},
   "outputs": [
    {
     "name": "stdout",
     "output_type": "stream",
     "text": [
      "7\n"
     ]
    }
   ],
   "source": [
    "# introduction to variables\n",
    "x = 5\n",
    "y = 2\n",
    "z = x + y\n",
    "print(z)"
   ]
  },
  {
   "cell_type": "code",
   "execution_count": 36,
   "id": "809d4ebf",
   "metadata": {},
   "outputs": [
    {
     "name": "stdout",
     "output_type": "stream",
     "text": [
      "('My friend', 'Ryan', 'is my number', 1, 'friend. He is chill.')\n"
     ]
    }
   ],
   "source": [
    "friend = 1\n",
    "friend_name = \"Ryan\"\n",
    "sentences = \"My friend\",friend_name,\"is my number\",friend,\"friend. He is chill.\"\n",
    "print(sentences)"
   ]
  },
  {
   "cell_type": "code",
   "execution_count": 84,
   "id": "44ada47e",
   "metadata": {},
   "outputs": [
    {
     "name": "stdout",
     "output_type": "stream",
     "text": [
      "4\n"
     ]
    }
   ],
   "source": [
    "# replacing cells \n",
    "# for function purpose, change subtraction to 8,10, or 12\n",
    "dollars = 10\n",
    "dollars = dollars - 6\n",
    "print(dollars)"
   ]
  },
  {
   "cell_type": "code",
   "execution_count": 85,
   "id": "258135ee",
   "metadata": {},
   "outputs": [
    {
     "name": "stdout",
     "output_type": "stream",
     "text": [
      "Greater than 0\n"
     ]
    }
   ],
   "source": [
    "# conditional statements: above,under,or at 10\n",
    "if(dollars>0):\n",
    "    print(\"Greater than 0\")\n",
    "elif(dollars<0):\n",
    "    print(\"Less than 0\")\n",
    "else:\n",
    "    print(\"Is 0\")"
   ]
  },
  {
   "cell_type": "code",
   "execution_count": 86,
   "id": "9b36726a",
   "metadata": {},
   "outputs": [
    {
     "name": "stdout",
     "output_type": "stream",
     "text": [
      "even\n"
     ]
    }
   ],
   "source": [
    "# conditional statements: odd or even\n",
    "if (dollars%2==0):\n",
    "    print(\"even\")\n",
    "    dollars += 3\n",
    "else:\n",
    "    print(\"odd\")\n",
    "    dollars -=3"
   ]
  },
  {
   "cell_type": "code",
   "execution_count": 87,
   "id": "ffe7edc7",
   "metadata": {},
   "outputs": [
    {
     "name": "stdout",
     "output_type": "stream",
     "text": [
      "7\n"
     ]
    }
   ],
   "source": [
    "print(dollars)"
   ]
  },
  {
   "cell_type": "code",
   "execution_count": 102,
   "id": "1b4242e3",
   "metadata": {},
   "outputs": [],
   "source": [
    "# random number generation\n",
    "import random as rnd\n",
    "\n",
    "if(dollars%2==0):\n",
    "    dollars += rnd.randrange(2,11)\n",
    "else:\n",
    "    dollars -= rnd.randrange(2,11)"
   ]
  },
  {
   "cell_type": "code",
   "execution_count": 103,
   "id": "dfc4bfd6",
   "metadata": {},
   "outputs": [
    {
     "name": "stdout",
     "output_type": "stream",
     "text": [
      "-3\n"
     ]
    }
   ],
   "source": [
    "print(dollars)"
   ]
  },
  {
   "cell_type": "code",
   "execution_count": 156,
   "id": "df79ea5e",
   "metadata": {},
   "outputs": [],
   "source": [
    "# student challenge: slot machine\n",
    "value = 0\n",
    "odds = rnd.randrange(1,100)\n",
    "\n",
    "# conditional statements\n",
    "if odds < 80:\n",
    "    value -= 1\n",
    "    \n",
    "elif odds <90:\n",
    "    value += 5\n",
    "    \n",
    "elif odds <100:\n",
    "    value += 20"
   ]
  },
  {
   "cell_type": "code",
   "execution_count": 157,
   "id": "c030e093",
   "metadata": {},
   "outputs": [
    {
     "name": "stdout",
     "output_type": "stream",
     "text": [
      "-1\n"
     ]
    }
   ],
   "source": [
    "print(value)"
   ]
  },
  {
   "cell_type": "code",
   "execution_count": 143,
   "id": "18a5b342",
   "metadata": {},
   "outputs": [],
   "source": [
    "# student challenge: chess\n",
    "wins = 0\n",
    "losses = 0\n",
    "\n",
    "random_int = rnd.randrange(1,6)\n",
    "if(random_int==1):\n",
    "    wins += 1\n",
    "else:\n",
    "    losses += 1"
   ]
  }
 ],
 "metadata": {
  "kernelspec": {
   "display_name": "Python 3 (ipykernel)",
   "language": "python",
   "name": "python3"
  },
  "language_info": {
   "codemirror_mode": {
    "name": "ipython",
    "version": 3
   },
   "file_extension": ".py",
   "mimetype": "text/x-python",
   "name": "python",
   "nbconvert_exporter": "python",
   "pygments_lexer": "ipython3",
   "version": "3.9.7"
  }
 },
 "nbformat": 4,
 "nbformat_minor": 5
}
